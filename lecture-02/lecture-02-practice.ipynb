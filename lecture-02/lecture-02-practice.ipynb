{
 "cells": [
  {
   "attachments": {},
   "cell_type": "markdown",
   "metadata": {},
   "source": [
    "# REINFORCE\n",
    "\n",
    "---\n",
    "\n",
    "In this notebook, we will train REINFORCE with OpenAI Gym's Cartpole environment."
   ]
  },
  {
   "cell_type": "code",
   "execution_count": 1,
   "metadata": {},
   "outputs": [],
   "source": [
    "def encrypt_string(input_string, shift=10):\n",
    "    encrypted_string = \"\"\n",
    "    for char in input_string:\n",
    "        if char.isalpha():\n",
    "            ascii_offset = ord('a') if char.islower() else ord('A')\n",
    "            encrypted_char = chr((ord(char) - ascii_offset + shift) % 26 + ascii_offset)\n",
    "            encrypted_string += encrypted_char\n",
    "        else:\n",
    "            encrypted_string += char\n",
    "    return encrypted_string\n",
    "\n",
    "def decrypt_string(encrypted_string, shift=10):\n",
    "    decrypted_string = \"\"\n",
    "    for char in encrypted_string:\n",
    "        if char.isalpha():\n",
    "            ascii_offset = ord('a') if char.islower() else ord('A')\n",
    "            decrypted_char = chr((ord(char) - ascii_offset - shift) % 26 + ascii_offset)\n",
    "            decrypted_string += decrypted_char\n",
    "        else:\n",
    "            decrypted_string += char\n",
    "    return decrypted_string"
   ]
  },
  {
   "attachments": {},
   "cell_type": "markdown",
   "metadata": {},
   "source": [
    "### 1. Import the Necessary Packages"
   ]
  },
  {
   "cell_type": "code",
   "execution_count": 2,
   "metadata": {},
   "outputs": [],
   "source": [
    "import gym\n",
    "gym.logger.set_level(40) # suppress warnings (please remove if gives error)\n",
    "import numpy as np\n",
    "from collections import deque\n",
    "import matplotlib.pyplot as plt\n",
    "%matplotlib inline\n",
    "\n",
    "import torch\n",
    "torch.manual_seed(0) # set random seed\n",
    "import torch.nn as nn\n",
    "import torch.nn.functional as F\n",
    "import torch.optim as optim\n",
    "from torch.distributions import Categorical"
   ]
  },
  {
   "attachments": {},
   "cell_type": "markdown",
   "metadata": {},
   "source": [
    "### 2. Define the Architecture of the Policy"
   ]
  },
  {
   "cell_type": "code",
   "execution_count": 5,
   "metadata": {},
   "outputs": [
    {
     "name": "stdout",
     "output_type": "stream",
     "text": [
      "observation space: Box([-4.8000002e+00 -3.4028235e+38 -4.1887903e-01 -3.4028235e+38], [4.8000002e+00 3.4028235e+38 4.1887903e-01 3.4028235e+38], (4,), float32)\n",
      "action space: Discrete(2)\n"
     ]
    }
   ],
   "source": [
    "env = gym.make('CartPole-v0')\n",
    "env.seed(0)\n",
    "print('observation space:', env.observation_space)\n",
    "print('action space:', env.action_space)\n",
    "\n",
    "device = torch.device(\"cuda:0\" if torch.cuda.is_available() else \"cpu\")\n",
    "\n",
    "class Policy(nn.Module):\n",
    "    def __init__(self, s_size=4, h_size=16, a_size=2):\n",
    "        super(Policy, self).__init__()\n",
    "        self.fc1 = nn.Linear(s_size, h_size)\n",
    "        self.fc2 = nn.Linear(h_size, a_size)\n",
    "\n",
    "    def forward(self, x):\n",
    "        x = F.relu(self.fc1(x))\n",
    "        x = self.fc2(x)\n",
    "        return F.softmax(x, dim=1)\n",
    "    \n",
    "    def act(self, state):\n",
    "        state = torch.from_numpy(state).float().unsqueeze(0).to(device)\n",
    "        ## TODO: get the action current predicated, and logProb current get\n",
    "        # https://pytorch.org/docs/stable/distributions.html\n",
    "        probs = self.forward(state)\n",
    "        m = Categorical(probs)\n",
    "        action = m.sample()\n",
    "        log_prob = m.log_prob(action)\n",
    "        \n",
    "        return action.item(), log_prob"
   ]
  },
  {
   "attachments": {},
   "cell_type": "markdown",
   "metadata": {},
   "source": [
    "### if you don't know the answer, you can run the following code: "
   ]
  },
  {
   "attachments": {},
   "cell_type": "markdown",
   "metadata": {},
   "source": [
    "## hint"
   ]
  },
  {
   "cell_type": "code",
   "execution_count": 4,
   "metadata": {},
   "outputs": [
    {
     "name": "stdout",
     "output_type": "stream",
     "text": [
      "'def act(self, state):\n",
      "        state = torch.from_numpy(state).float().unsqueeze(0).to(device)\n",
      "        probs = self.forward(state).cpu()\n",
      "        m = Categorical(probs)\n",
      "        action = m.sample()\n",
      "        return action.item(), m.log_prob(action)'\n"
     ]
    }
   ],
   "source": [
    "print(decrypt_string(\"\"\"'nop kmd(covp, cdkdo):\\n        cdkdo = dybmr.pbyw_xewzi(cdkdo).pvykd().excaeoojo(0).dy(nofsmo)\\n        zbylc = covp.pybgkbn(cdkdo).mze()\\n        w = Mkdoqybsmkv(zbylc)\\n        kmdsyx = w.ckwzvo()\\n        bodebx kmdsyx.sdow(), w.vyq_zbyl(kmdsyx)'\"\"\"))"
   ]
  },
  {
   "attachments": {},
   "cell_type": "markdown",
   "metadata": {},
   "source": [
    "### 3. Train the Agent with REINFORCE"
   ]
  },
  {
   "cell_type": "code",
   "execution_count": 6,
   "metadata": {},
   "outputs": [],
   "source": [
    "import time"
   ]
  },
  {
   "attachments": {},
   "cell_type": "markdown",
   "metadata": {},
   "source": [
    " $$ \\hat{g} = \\sum_{t = 0}^{H-1} \\nabla_{\\theta}log(\\pi_{\\theta}(a_t^i | s_t^i))\\sum_{t=t}^{H}r(s_{i, t}, a_{i, t})$$"
   ]
  },
  {
   "cell_type": "code",
   "execution_count": 8,
   "metadata": {},
   "outputs": [
    {
     "name": "stdout",
     "output_type": "stream",
     "text": [
      "Episode 100\tAverage Score: 33.45\n",
      "Episode 100\tConsumed Time: 0.02\n",
      "Episode 200\tAverage Score: 62.86\n",
      "Episode 200\tConsumed Time: 0.04\n",
      "Episode 300\tAverage Score: 36.27\n",
      "Episode 300\tConsumed Time: 0.03\n",
      "Episode 400\tAverage Score: 52.63\n",
      "Episode 400\tConsumed Time: 0.05\n",
      "Episode 500\tAverage Score: 66.59\n",
      "Episode 500\tConsumed Time: 0.08\n",
      "Episode 600\tAverage Score: 54.39\n",
      "Episode 600\tConsumed Time: 0.05\n",
      "Episode 700\tAverage Score: 57.03\n",
      "Episode 700\tConsumed Time: 0.04\n",
      "Episode 800\tAverage Score: 80.14\n",
      "Episode 800\tConsumed Time: 0.11\n",
      "Episode 900\tAverage Score: 119.16\n",
      "Episode 900\tConsumed Time: 0.03\n",
      "Episode 1000\tAverage Score: 92.31\n",
      "Episode 1000\tConsumed Time: 0.02\n"
     ]
    }
   ],
   "source": [
    "policy = Policy().to(device)\n",
    "optimizer = optim.Adam(policy.parameters(), lr=1e-2)\n",
    "\n",
    "def reinforce(n_episodes=1000, max_t=1000, gamma=1.0, print_every=100):\n",
    "    scores_deque = deque(maxlen=100)\n",
    "    scores = []\n",
    "    time_consumsed = []\n",
    "    for i_episode in range(1, n_episodes+1):\n",
    "        begin = time.time()\n",
    "        saved_log_probs = []\n",
    "        rewards = []\n",
    "        state = env.reset()\n",
    "        for t in range(max_t):\n",
    "            action, log_prob = policy.act(state)\n",
    "            saved_log_probs.append(log_prob)\n",
    "            state, reward, done, _ = env.step(action)\n",
    "            rewards.append(reward)\n",
    "            if done:\n",
    "                break \n",
    "        scores_deque.append(sum(rewards))\n",
    "        scores.append(sum(rewards))\n",
    "        \n",
    "        end = time.time()\n",
    "        \n",
    "        time_consumsed.append(end - begin)\n",
    "        \n",
    "        discounts = [gamma**i for i in range(len(rewards)+1)]\n",
    "        R = sum([a*b for a,b in zip(discounts, rewards)])\n",
    "        \n",
    "        ## TODO 2: implement the getting loss and trainning process\n",
    "        gs = []\n",
    "        for log_prob in saved_log_probs:\n",
    "            gs.append(-log_prob * R)\n",
    "        loss = torch.cat(gs).sum()\n",
    "        optimizer.zero_grad()\n",
    "        loss.backward()\n",
    "        optimizer.step()\n",
    "        \n",
    "        if i_episode % print_every == 0:\n",
    "            print('Episode {}\\tAverage Score: {:.2f}'.format(i_episode, np.mean(scores_deque)))\n",
    "            print('Episode {}\\tConsumed Time: {:.2f}'.format(i_episode, time_consumsed[-1]))\n",
    "        if np.mean(scores_deque)>=195.0:\n",
    "            print('Environment solved in {:d} episodes!\\tAverage Score: {:.2f}'.format(i_episode-100, np.mean(scores_deque)))\n",
    "            break\n",
    "        \n",
    "    return scores, time_consumsed\n",
    "    \n",
    "scores = reinforce()"
   ]
  },
  {
   "attachments": {},
   "cell_type": "markdown",
   "metadata": {},
   "source": [
    "### hint"
   ]
  },
  {
   "cell_type": "code",
   "execution_count": 7,
   "metadata": {},
   "outputs": [
    {
     "data": {
      "text/plain": [
       "\"'  policy_loss = []\\n        for log_prob in saved_log_probs:\\n            policy_loss.append(-log_prob * R)\\n        policy_loss = torch.cat(policy_loss).sum()\\n        \\n        optimizer.zero_grad()\\n        policy_loss.backward()\\n        optimizer.step()'\""
      ]
     },
     "execution_count": 7,
     "metadata": {},
     "output_type": "execute_result"
    }
   ],
   "source": [
    "decrypt_string(\"\"\"'  zyvsmi_vycc = []\\n        pyb vyq_zbyl sx ckfon_vyq_zbylc:\\n            zyvsmi_vycc.kzzoxn(-vyq_zbyl * B)\\n        zyvsmi_vycc = dybmr.mkd(zyvsmi_vycc).cew()\\n        \\n        yzdswsjob.joby_qbkn()\\n        zyvsmi_vycc.lkmugkbn()\\n        yzdswsjob.cdoz()'\"\"\")"
   ]
  },
  {
   "attachments": {},
   "cell_type": "markdown",
   "metadata": {},
   "source": [
    "### 4. Plot the Scores"
   ]
  },
  {
   "cell_type": "code",
   "execution_count": 9,
   "metadata": {},
   "outputs": [
    {
     "data": {
      "image/png": "[encoded data removed]",
      "text/plain": [
       "<Figure size 432x288 with 1 Axes>"
      ]
     },
     "metadata": {
      "needs_background": "light"
     },
     "output_type": "display_data"
    }
   ],
   "source": [
    "fig = plt.figure()\n",
    "ax = fig.add_subplot(111)\n",
    "plt.plot(np.arange(1, len(scores[0])+1), scores[0])\n",
    "plt.ylabel('Score')\n",
    "plt.xlabel('Episode #')\n",
    "plt.show()"
   ]
  },
  {
   "cell_type": "code",
   "execution_count": 10,
   "metadata": {},
   "outputs": [
    {
     "data": {
      "text/plain": [
       "[<matplotlib.lines.Line2D at 0x1674ceb9e20>]"
      ]
     },
     "execution_count": 10,
     "metadata": {},
     "output_type": "execute_result"
    },
    {
     "data": {
      "image/png": "[encoded data removed]",
      "text/plain": [
       "<Figure size 432x288 with 1 Axes>"
      ]
     },
     "metadata": {
      "needs_background": "light"
     },
     "output_type": "display_data"
    }
   ],
   "source": [
    "plt.plot(np.arange(1, len(scores[0])+1), scores[1])"
   ]
  },
  {
   "attachments": {},
   "cell_type": "markdown",
   "metadata": {},
   "source": [
    "### 5. Watch a Smart Agent!"
   ]
  },
  {
   "cell_type": "code",
   "execution_count": 11,
   "metadata": {},
   "outputs": [],
   "source": [
    "env = gym.make('CartPole-v0')\n",
    "\n",
    "state = env.reset()\n",
    "for t in range(5000):\n",
    "    action, _ = policy.act(state)\n",
    "    env.render()\n",
    "    state, reward, done, _ = env.step(action)\n",
    "    if done:\n",
    "        break \n",
    "\n",
    "env.close()"
   ]
  }
 ],
 "metadata": {
  "anaconda-cloud": {},
  "kernelspec": {
   "display_name": "Python 3 (ipykernel)",
   "language": "python",
   "name": "python3"
  },
  "language_info": {
   "codemirror_mode": {
    "name": "ipython",
    "version": 3
   },
   "file_extension": ".py",
   "mimetype": "text/x-python",
   "name": "python",
   "nbconvert_exporter": "python",
   "pygments_lexer": "ipython3",
   "version": "3.9.6"
  }
 },
 "nbformat": 4,
 "nbformat_minor": 2
}
